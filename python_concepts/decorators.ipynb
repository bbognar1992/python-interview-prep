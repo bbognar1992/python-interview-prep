{
 "cells": [
  {
   "metadata": {},
   "cell_type": "markdown",
   "source": [
    "## Decorators\n",
    "A decorator is a higher-order function that takes another function as an argument, modifies or enhances its behavior, and returns a new function. They are often used for logging, enforcing access control, instrumentation, caching, etc.\n",
    "\n",
    "A higher-order function (HOF) in Python is a function that either:\n",
    "- Takes one or more functions as arguments, or\n",
    "- Returns a function as its result.\n"
   ],
   "id": "206b99a37360afef"
  },
  {
   "metadata": {
    "ExecuteTime": {
     "end_time": "2024-10-19T13:50:38.459711Z",
     "start_time": "2024-10-19T13:50:38.456058Z"
    }
   },
   "cell_type": "code",
   "source": [
    "def my_decorator(func):\n",
    "    def wrapper(*args, **kwargs):\n",
    "        print(\"Hi!\")\n",
    "        func()\n",
    "        print(\"Bye!\")\n",
    "    return wrapper\n",
    "@my_decorator\n",
    "def context():\n",
    "    print(\"Nice to meet you! \")\n",
    "    \n",
    "context()"
   ],
   "id": "d8e5f1a46129c9fe",
   "outputs": [
    {
     "name": "stdout",
     "output_type": "stream",
     "text": [
      "Hi!\n",
      "Nice to meet you! \n",
      "Bye!\n"
     ]
    }
   ],
   "execution_count": 5
  },
  {
   "metadata": {},
   "cell_type": "code",
   "outputs": [],
   "execution_count": null,
   "source": "",
   "id": "deeb10739c289579"
  }
 ],
 "metadata": {
  "kernelspec": {
   "display_name": "Python 3",
   "language": "python",
   "name": "python3"
  },
  "language_info": {
   "codemirror_mode": {
    "name": "ipython",
    "version": 2
   },
   "file_extension": ".py",
   "mimetype": "text/x-python",
   "name": "python",
   "nbconvert_exporter": "python",
   "pygments_lexer": "ipython2",
   "version": "2.7.6"
  }
 },
 "nbformat": 4,
 "nbformat_minor": 5
}
