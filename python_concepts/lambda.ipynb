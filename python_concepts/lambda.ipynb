{
 "cells": [
  {
   "metadata": {},
   "cell_type": "markdown",
   "source": [
    "## Lambda functions\n",
    "\n",
    "lambda arguments: expression"
   ],
   "id": "622fc03ecb993d66"
  },
  {
   "metadata": {
    "collapsed": true,
    "ExecuteTime": {
     "end_time": "2024-10-19T12:50:46.148248Z",
     "start_time": "2024-10-19T12:50:46.144456Z"
    }
   },
   "cell_type": "code",
   "outputs": [
    {
     "data": {
      "text/plain": [
       "4096"
      ]
     },
     "execution_count": 3,
     "metadata": {},
     "output_type": "execute_result"
    }
   ],
   "execution_count": 3,
   "source": [
    "n2 = lambda x: x*x\n",
    "n2(64)"
   ],
   "id": "initial_id"
  },
  {
   "metadata": {
    "ExecuteTime": {
     "end_time": "2024-10-19T12:51:18.145581Z",
     "start_time": "2024-10-19T12:51:18.142262Z"
    }
   },
   "cell_type": "code",
   "source": "id(n2)",
   "id": "eb123eea0d88f40a",
   "outputs": [
    {
     "data": {
      "text/plain": [
       "4401907008"
      ]
     },
     "execution_count": 4,
     "metadata": {},
     "output_type": "execute_result"
    }
   ],
   "execution_count": 4
  },
  {
   "metadata": {
    "ExecuteTime": {
     "end_time": "2024-10-19T13:01:50.978462Z",
     "start_time": "2024-10-19T13:01:50.974463Z"
    }
   },
   "cell_type": "code",
   "source": [
    "numbers = [1,2,3,4,5]\n",
    "squared_numbers = list(map(n2, numbers))\n",
    "squared_numbers"
   ],
   "id": "8c8d4cc7e09f16e6",
   "outputs": [
    {
     "data": {
      "text/plain": [
       "[1, 4, 9, 16, 25]"
      ]
     },
     "execution_count": 13,
     "metadata": {},
     "output_type": "execute_result"
    }
   ],
   "execution_count": 13
  },
  {
   "metadata": {
    "ExecuteTime": {
     "end_time": "2024-10-19T13:04:33.943531Z",
     "start_time": "2024-10-19T13:04:33.939888Z"
    }
   },
   "cell_type": "code",
   "source": [
    "numbers = [12,22,44, 33]\n",
    "filtered_numbers = list(filter(lambda x: x%2 != 0, numbers))\n",
    "filtered_numbers"
   ],
   "id": "db34730b7702b508",
   "outputs": [
    {
     "data": {
      "text/plain": [
       "[33]"
      ]
     },
     "execution_count": 14,
     "metadata": {},
     "output_type": "execute_result"
    }
   ],
   "execution_count": 14
  },
  {
   "metadata": {
    "ExecuteTime": {
     "end_time": "2024-10-19T13:07:42.334840Z",
     "start_time": "2024-10-19T13:07:42.331350Z"
    }
   },
   "cell_type": "code",
   "source": [
    "people = [(\"Bence\", 33), (\"Ottó\", 22), (\"Tamás\", 48)]\n",
    "sorted_peole = sorted(people, key=lambda x: x[0], reverse=True)\n",
    "sorted_peole"
   ],
   "id": "f796c7680c2f74a7",
   "outputs": [
    {
     "data": {
      "text/plain": [
       "[('Tamás', 48), ('Ottó', 22), ('Bence', 33)]"
      ]
     },
     "execution_count": 15,
     "metadata": {},
     "output_type": "execute_result"
    }
   ],
   "execution_count": 15
  },
  {
   "metadata": {},
   "cell_type": "code",
   "outputs": [],
   "execution_count": null,
   "source": "",
   "id": "704bd434ed6d3b16"
  }
 ],
 "metadata": {
  "kernelspec": {
   "display_name": "Python 3",
   "language": "python",
   "name": "python3"
  },
  "language_info": {
   "codemirror_mode": {
    "name": "ipython",
    "version": 2
   },
   "file_extension": ".py",
   "mimetype": "text/x-python",
   "name": "python",
   "nbconvert_exporter": "python",
   "pygments_lexer": "ipython2",
   "version": "2.7.6"
  }
 },
 "nbformat": 4,
 "nbformat_minor": 5
}
