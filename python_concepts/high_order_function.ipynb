{
 "cells": [
  {
   "metadata": {},
   "cell_type": "markdown",
   "source": [
    "# Higher-Order Functions\n",
    "\n",
    "They treat functions as first-class citizens, meaning that functions can be passed around as arguments, returned from other functions, and assigned to variables, just like any other object.\n",
    "\n",
    "They help create generic and reusable code by allowing functions to be used as parameters for other functions.\n",
    "\n",
    "They are frequently used in functional programming, a paradigm that emphasizes functions and immutability."
   ],
   "id": "52e1f22aafabc8a"
  },
  {
   "cell_type": "code",
   "id": "initial_id",
   "metadata": {
    "collapsed": true,
    "ExecuteTime": {
     "end_time": "2024-10-28T14:42:59.377052Z",
     "start_time": "2024-10-28T14:42:59.374091Z"
    }
   },
   "source": [
    "# 1. Functions as Arguments\n",
    "def square(x):\n",
    "    return x * x\n",
    "\n",
    "numbers = [1, 2, 3, 4, 5]\n",
    "squared_numbers = map(square, numbers)  # 'square' is passed as an argument\n",
    "\n",
    "print(list(squared_numbers))  # Output: [1, 4, 9, 16, 25]\n"
   ],
   "outputs": [
    {
     "name": "stdout",
     "output_type": "stream",
     "text": [
      "[1, 4, 9, 16, 25]\n"
     ]
    }
   ],
   "execution_count": 1
  },
  {
   "metadata": {
    "ExecuteTime": {
     "end_time": "2024-10-28T14:44:18.047232Z",
     "start_time": "2024-10-28T14:44:18.043428Z"
    }
   },
   "cell_type": "code",
   "source": [
    "# 2. Functions as Return Values\n",
    "def outer_function(message):\n",
    "    def inner_function():\n",
    "        print(message)\n",
    "    return inner_function\n",
    "\n",
    "# Get the function returned by outer_function\n",
    "greet = outer_function(\"Hello, World!\")\n",
    "greet()  # Output: Hello, World!\n"
   ],
   "id": "81723321f10a19a2",
   "outputs": [
    {
     "name": "stdout",
     "output_type": "stream",
     "text": [
      "Hello, World!\n"
     ]
    }
   ],
   "execution_count": 4
  },
  {
   "metadata": {
    "ExecuteTime": {
     "end_time": "2024-10-28T14:44:46.081398Z",
     "start_time": "2024-10-28T14:44:46.077981Z"
    }
   },
   "cell_type": "code",
   "source": [
    "# 3. Using Lambda Functions\n",
    "numbers = [1, 2, 3, 4, 5, 6]\n",
    "even_numbers = filter(lambda x: x % 2 == 0, numbers)  # Lambda function is used here\n",
    "\n",
    "print(list(even_numbers))  # Output: [2, 4, 6]\n"
   ],
   "id": "704347bfed60b41b",
   "outputs": [
    {
     "name": "stdout",
     "output_type": "stream",
     "text": [
      "[2, 4, 6]\n"
     ]
    }
   ],
   "execution_count": 5
  },
  {
   "metadata": {},
   "cell_type": "markdown",
   "source": [
    "## Common Built-in Higher-Order Functions in Python\n",
    "Python provides several built-in higher-order functions, such as:\n",
    "\n",
    "- map(function, iterable): Applies the function to each item of the iterable.\n",
    "- filter(function, iterable): Filters elements from the iterable for which the function returns True.\n",
    "- reduce(function, iterable) (from functools): Applies the function cumulatively to the items of the iterable to reduce it to a single value.\n",
    "- sorted(iterable, key=function): Sorts the elements based on a key function.\n",
    "\n",
    "## Use Cases for Higher-Order Functions\n",
    "- Custom Sorting: Using a key function for sorting complex data structures.\n",
    "- Decorators: Functions that modify the behavior of other functions.\n",
    "- Functional Programming: Performing operations on collections, such as mapping and filtering, without writing explicit loops.\n",
    "- Callbacks: Passing functions as arguments to be called later."
   ],
   "id": "6465452898bded4d"
  },
  {
   "metadata": {},
   "cell_type": "code",
   "outputs": [],
   "execution_count": null,
   "source": "",
   "id": "2d7559803cf12964"
  }
 ],
 "metadata": {
  "kernelspec": {
   "display_name": "Python 3",
   "language": "python",
   "name": "python3"
  },
  "language_info": {
   "codemirror_mode": {
    "name": "ipython",
    "version": 2
   },
   "file_extension": ".py",
   "mimetype": "text/x-python",
   "name": "python",
   "nbconvert_exporter": "python",
   "pygments_lexer": "ipython2",
   "version": "2.7.6"
  }
 },
 "nbformat": 4,
 "nbformat_minor": 5
}
