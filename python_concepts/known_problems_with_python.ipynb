{
 "cells": [
  {
   "metadata": {},
   "cell_type": "markdown",
   "source": "# Know problems with python",
   "id": "9180704a082624f"
  },
  {
   "metadata": {
    "ExecuteTime": {
     "end_time": "2024-10-28T16:39:45.900748Z",
     "start_time": "2024-10-28T16:39:45.473803Z"
    }
   },
   "cell_type": "code",
   "source": [
    "# Global Interpreter Lock (GIL) Limiting Multithreading\n",
    "import threading\n",
    "import time\n",
    "\n",
    "def cpu_bound_task():\n",
    "    count = 0\n",
    "    for _ in range(10**7):\n",
    "        count += 1\n",
    "\n",
    "# Start two threads for CPU-bound tasks\n",
    "threads = []\n",
    "for _ in range(2):\n",
    "    thread = threading.Thread(target=cpu_bound_task)\n",
    "    threads.append(thread)\n",
    "    thread.start()\n",
    "\n",
    "for thread in threads:\n",
    "    thread.join()\n",
    "\n",
    "print(\"Completed CPU-bound tasks.\")\n"
   ],
   "id": "ade61f7b72186c9f",
   "outputs": [
    {
     "name": "stdout",
     "output_type": "stream",
     "text": [
      "Completed CPU-bound tasks.\n"
     ]
    }
   ],
   "execution_count": 1
  },
  {
   "metadata": {
    "ExecuteTime": {
     "end_time": "2024-10-28T16:40:32.639098Z",
     "start_time": "2024-10-28T16:40:32.635600Z"
    }
   },
   "cell_type": "code",
   "source": [
    "# Mutable Default Arguments\n",
    "def append_to_list(element, my_list=[]):\n",
    "    my_list.append(element)\n",
    "    return my_list\n",
    "\n",
    "# Call the function multiple times\n",
    "print(append_to_list(1))  # Output: [1]\n",
    "print(append_to_list(2))  # Output: [1, 2] (unexpected)\n",
    "print(append_to_list(3))  # Output: [1, 2, 3] (unexpected)\n"
   ],
   "id": "9115205518252d33",
   "outputs": [
    {
     "name": "stdout",
     "output_type": "stream",
     "text": [
      "[1]\n",
      "[1, 2]\n",
      "[1, 2, 3]\n"
     ]
    }
   ],
   "execution_count": 2
  },
  {
   "metadata": {
    "ExecuteTime": {
     "end_time": "2024-10-28T16:41:53.645509Z",
     "start_time": "2024-10-28T16:41:53.641853Z"
    }
   },
   "cell_type": "code",
   "source": [
    "# Solution:\n",
    "def append_to_list(element, my_list=None):\n",
    "    if my_list is None:\n",
    "        my_list = []\n",
    "    my_list.append(element)\n",
    "    return my_list\n",
    "\n",
    "print(append_to_list(1))  # Output: [1]\n",
    "print(append_to_list(2))  # Output: [2] (expected)\n",
    "print(append_to_list(3))  # Output: [3] (expected)\n"
   ],
   "id": "66267012f7993192",
   "outputs": [
    {
     "name": "stdout",
     "output_type": "stream",
     "text": [
      "[1]\n",
      "[2]\n",
      "[3]\n"
     ]
    }
   ],
   "execution_count": 3
  },
  {
   "metadata": {
    "ExecuteTime": {
     "end_time": "2024-10-28T16:42:18.212756Z",
     "start_time": "2024-10-28T16:42:18.209294Z"
    }
   },
   "cell_type": "code",
   "source": [
    "#  Floating-Point Precision Errors\n",
    "print(0.1 + 0.2)  # Output: 0.30000000000000004 (unexpected)\n"
   ],
   "id": "91abe66e1e4050cb",
   "outputs": [
    {
     "name": "stdout",
     "output_type": "stream",
     "text": [
      "0.30000000000000004\n"
     ]
    }
   ],
   "execution_count": 4
  },
  {
   "metadata": {
    "ExecuteTime": {
     "end_time": "2024-10-28T16:42:44.309309Z",
     "start_time": "2024-10-28T16:42:44.304381Z"
    }
   },
   "cell_type": "code",
   "source": [
    "# Solution:\n",
    "from decimal import Decimal\n",
    "\n",
    "print(Decimal('0.1') + Decimal('0.2'))  # Output: 0.3\n"
   ],
   "id": "5caabc333ab97d24",
   "outputs": [
    {
     "name": "stdout",
     "output_type": "stream",
     "text": [
      "0.3\n"
     ]
    }
   ],
   "execution_count": 5
  },
  {
   "metadata": {},
   "cell_type": "code",
   "outputs": [],
   "execution_count": null,
   "source": [
    "# Circular Imports\n",
    "# module_a.py\n",
    "from module_b import func_b\n",
    "\n",
    "def func_a():\n",
    "    print(\"In func_a\")\n",
    "\n",
    "# module_b.py\n",
    "from module_a import func_a\n",
    "\n",
    "def func_b():\n",
    "    print(\"In func_b\")\n"
   ],
   "id": "4dbb938411d0795a"
  }
 ],
 "metadata": {
  "kernelspec": {
   "display_name": "Python 3",
   "language": "python",
   "name": "python3"
  },
  "language_info": {
   "codemirror_mode": {
    "name": "ipython",
    "version": 2
   },
   "file_extension": ".py",
   "mimetype": "text/x-python",
   "name": "python",
   "nbconvert_exporter": "python",
   "pygments_lexer": "ipython2",
   "version": "2.7.6"
  }
 },
 "nbformat": 4,
 "nbformat_minor": 5
}
