{
 "cells": [
  {
   "metadata": {},
   "cell_type": "markdown",
   "source": [
    "# Parallelism in Python\n",
    "\n",
    "In parallelism, tasks truly run in parallel on separate cores, which can significantly improve performance for CPU-bound tasks."
   ],
   "id": "bffb1fdb8f2c5e02"
  },
  {
   "metadata": {
    "ExecuteTime": {
     "end_time": "2024-10-28T16:24:54.816782Z",
     "start_time": "2024-10-28T16:24:54.767894Z"
    }
   },
   "cell_type": "code",
   "source": [
    "# multiprocessing\n",
    "\n",
    "%run multiprocessing_example.py"
   ],
   "id": "fa55339244c75fe5",
   "outputs": [
    {
     "name": "stdout",
     "output_type": "stream",
     "text": [
      "Process ID: 8222 - Numbers: [0, 1, 2, 3, 4]\n",
      "Process ID: 8223 - Letters: ['A', 'B', 'C', 'D', 'E']\n",
      "Both processes have finished execution.\n"
     ]
    }
   ],
   "execution_count": 4
  },
  {
   "metadata": {
    "ExecuteTime": {
     "end_time": "2024-10-28T16:24:52.079579Z",
     "start_time": "2024-10-28T16:24:51.986457Z"
    }
   },
   "cell_type": "code",
   "source": [
    "# ProcessPoolExecutor\n",
    "\n",
    "%run processpool_example.py"
   ],
   "id": "63b7044d21fe57e7",
   "outputs": [
    {
     "name": "stdout",
     "output_type": "stream",
     "text": [
      "[1, 4, 9, 16, 25]\n"
     ]
    }
   ],
   "execution_count": 3
  }
 ],
 "metadata": {
  "kernelspec": {
   "display_name": "Python 3",
   "language": "python",
   "name": "python3"
  },
  "language_info": {
   "codemirror_mode": {
    "name": "ipython",
    "version": 2
   },
   "file_extension": ".py",
   "mimetype": "text/x-python",
   "name": "python",
   "nbconvert_exporter": "python",
   "pygments_lexer": "ipython2",
   "version": "2.7.6"
  }
 },
 "nbformat": 4,
 "nbformat_minor": 5
}
