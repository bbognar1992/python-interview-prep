{
 "cells": [
  {
   "metadata": {},
   "cell_type": "markdown",
   "source": [
    "# Closure\n",
    "\n",
    "A closure is a function that \"remembers\" the variables from its enclosing lexical scope, even after that scope is no longer in use. It allows the inner function to access variables defined in the outer function, even if the outer function has finished executing."
   ],
   "id": "3ae4a89f79cc65f6"
  },
  {
   "metadata": {
    "collapsed": true,
    "ExecuteTime": {
     "end_time": "2024-10-28T14:30:28.725330Z",
     "start_time": "2024-10-28T14:30:28.721788Z"
    }
   },
   "cell_type": "code",
   "source": [
    "def outer_function(x):\n",
    "    def inner_function(y):\n",
    "        return x + y\n",
    "    return inner_function\n",
    "\n",
    "# Create a closure\n",
    "closure_example = outer_function(10)\n",
    "\n",
    "# Use the closure\n",
    "result = closure_example(5)\n",
    "print(result)  # Output: 15\n"
   ],
   "id": "initial_id",
   "outputs": [
    {
     "name": "stdout",
     "output_type": "stream",
     "text": [
      "15\n"
     ]
    }
   ],
   "execution_count": 2
  },
  {
   "metadata": {
    "ExecuteTime": {
     "end_time": "2024-10-28T14:34:17.536910Z",
     "start_time": "2024-10-28T14:34:17.533490Z"
    }
   },
   "cell_type": "code",
   "source": [
    "def outer_function(message):\n",
    "    def inner_function():\n",
    "        print(message)\n",
    "    return inner_function\n",
    "\n",
    "closure_example = outer_function(\"Hello, Closure!\")\n",
    "closure_example()  # Output: Hello, Closure!\n"
   ],
   "id": "8d5d3eaafd31f848",
   "outputs": [
    {
     "name": "stdout",
     "output_type": "stream",
     "text": [
      "Hello, Closure!\n"
     ]
    }
   ],
   "execution_count": 3
  }
 ],
 "metadata": {
  "kernelspec": {
   "display_name": "Python 3",
   "language": "python",
   "name": "python3"
  },
  "language_info": {
   "codemirror_mode": {
    "name": "ipython",
    "version": 2
   },
   "file_extension": ".py",
   "mimetype": "text/x-python",
   "name": "python",
   "nbconvert_exporter": "python",
   "pygments_lexer": "ipython2",
   "version": "2.7.6"
  }
 },
 "nbformat": 4,
 "nbformat_minor": 5
}
