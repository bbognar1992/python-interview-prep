{
 "cells": [
  {
   "metadata": {},
   "cell_type": "markdown",
   "source": "# Descriptors Properties",
   "id": "55670fb5358e8cca"
  },
  {
   "metadata": {
    "collapsed": true,
    "ExecuteTime": {
     "end_time": "2024-10-28T12:55:02.536908Z",
     "start_time": "2024-10-28T12:55:02.533040Z"
    }
   },
   "cell_type": "code",
   "source": [
    "# Descriptor Class\n",
    "class PositiveValue:\n",
    "    def __init__(self, initial_value=0):\n",
    "        self.value = initial_value\n",
    "    \n",
    "    def __get__(self, instance, owner):\n",
    "        # Called when the attribute is accessed\n",
    "        return self.value\n",
    "    \n",
    "    def __set__(self, instance, new_value):\n",
    "        # Called when the attribute is set\n",
    "        if new_value < 0:\n",
    "            raise ValueError(\"Value cannot be negative!\")\n",
    "        self.value = new_value\n",
    "    \n",
    "    def __delete__(self, instance):\n",
    "        # Called when the attribute is deleted\n",
    "        raise AttributeError(\"Cannot delete attribute\")"
   ],
   "id": "initial_id",
   "outputs": [],
   "execution_count": 5
  },
  {
   "metadata": {
    "ExecuteTime": {
     "end_time": "2024-10-28T12:56:01.443327Z",
     "start_time": "2024-10-28T12:56:01.440499Z"
    }
   },
   "cell_type": "code",
   "source": [
    "class Product:\n",
    "    # Using the descriptor for `price` and `quantity` attributes\n",
    "    price = PositiveValue()\n",
    "    quantity = PositiveValue()\n",
    "    \n",
    "    def __init__(self, price, quantity):\n",
    "        self.price = price\n",
    "        self.quantity = quantity\n",
    "    \n",
    "    @property\n",
    "    def total_cost(self):\n",
    "        return self.price * self.quantity"
   ],
   "id": "1dac06be1f71e6c7",
   "outputs": [],
   "execution_count": 9
  },
  {
   "metadata": {
    "ExecuteTime": {
     "end_time": "2024-10-28T12:56:14.434636Z",
     "start_time": "2024-10-28T12:56:14.431461Z"
    }
   },
   "cell_type": "code",
   "source": [
    "# Usage\n",
    "product = Product(price=50, quantity=3)\n",
    "print(product.total_cost)   # Output: 150\n",
    "\n",
    "# Trying to set a negative price will raise an error\n",
    "try:\n",
    "    product.price = -20\n",
    "except ValueError as e:\n",
    "    print(e)  # Output: Value cannot be negative!"
   ],
   "id": "2346bdee6e63bd08",
   "outputs": [
    {
     "name": "stdout",
     "output_type": "stream",
     "text": [
      "150\n",
      "Value cannot be negative!\n"
     ]
    }
   ],
   "execution_count": 11
  },
  {
   "metadata": {
    "ExecuteTime": {
     "end_time": "2024-10-28T12:56:15.773957Z",
     "start_time": "2024-10-28T12:56:15.769615Z"
    }
   },
   "cell_type": "code",
   "source": "product.price",
   "id": "aa9673c960712c5c",
   "outputs": [
    {
     "data": {
      "text/plain": [
       "50"
      ]
     },
     "execution_count": 12,
     "metadata": {},
     "output_type": "execute_result"
    }
   ],
   "execution_count": 12
  },
  {
   "metadata": {
    "ExecuteTime": {
     "end_time": "2024-10-28T12:58:43.023845Z",
     "start_time": "2024-10-28T12:58:43.011486Z"
    }
   },
   "cell_type": "code",
   "source": "del product.price",
   "id": "46c89c1bffea5d3f",
   "outputs": [
    {
     "ename": "AttributeError",
     "evalue": "Cannot delete attribute",
     "output_type": "error",
     "traceback": [
      "\u001B[0;31m---------------------------------------------------------------------------\u001B[0m",
      "\u001B[0;31mAttributeError\u001B[0m                            Traceback (most recent call last)",
      "Cell \u001B[0;32mIn[16], line 1\u001B[0m\n\u001B[0;32m----> 1\u001B[0m \u001B[38;5;28;01mdel\u001B[39;00m \u001B[43mproduct\u001B[49m\u001B[38;5;241;43m.\u001B[39;49m\u001B[43mprice\u001B[49m\n",
      "Cell \u001B[0;32mIn[5], line 18\u001B[0m, in \u001B[0;36mPositiveValue.__delete__\u001B[0;34m(self, instance)\u001B[0m\n\u001B[1;32m     16\u001B[0m \u001B[38;5;28;01mdef\u001B[39;00m \u001B[38;5;21m__delete__\u001B[39m(\u001B[38;5;28mself\u001B[39m, instance):\n\u001B[1;32m     17\u001B[0m     \u001B[38;5;66;03m# Called when the attribute is deleted\u001B[39;00m\n\u001B[0;32m---> 18\u001B[0m     \u001B[38;5;28;01mraise\u001B[39;00m \u001B[38;5;167;01mAttributeError\u001B[39;00m(\u001B[38;5;124m\"\u001B[39m\u001B[38;5;124mCannot delete attribute\u001B[39m\u001B[38;5;124m\"\u001B[39m)\n",
      "\u001B[0;31mAttributeError\u001B[0m: Cannot delete attribute"
     ]
    }
   ],
   "execution_count": 16
  },
  {
   "metadata": {
    "ExecuteTime": {
     "end_time": "2024-10-28T12:57:07.653841Z",
     "start_time": "2024-10-28T12:57:07.651468Z"
    }
   },
   "cell_type": "code",
   "source": [
    "try:\n",
    "    product.total_cost = 30\n",
    "except AttributeError as e:\n",
    "    print(e)"
   ],
   "id": "f7b15f7fb76fdd93",
   "outputs": [
    {
     "name": "stdout",
     "output_type": "stream",
     "text": [
      "property 'total_cost' of 'Product' object has no setter\n"
     ]
    }
   ],
   "execution_count": 15
  },
  {
   "metadata": {
    "ExecuteTime": {
     "end_time": "2024-10-28T12:59:09.245623Z",
     "start_time": "2024-10-28T12:59:09.242610Z"
    }
   },
   "cell_type": "code",
   "source": [
    "a = 10\n",
    "a"
   ],
   "id": "d1baa7c4f064a194",
   "outputs": [
    {
     "data": {
      "text/plain": [
       "10"
      ]
     },
     "execution_count": 17,
     "metadata": {},
     "output_type": "execute_result"
    }
   ],
   "execution_count": 17
  },
  {
   "metadata": {
    "ExecuteTime": {
     "end_time": "2024-10-28T12:59:15.873486Z",
     "start_time": "2024-10-28T12:59:15.871518Z"
    }
   },
   "cell_type": "code",
   "source": "del a",
   "id": "360a876ff127c4b9",
   "outputs": [],
   "execution_count": 18
  },
  {
   "metadata": {
    "ExecuteTime": {
     "end_time": "2024-10-28T12:59:22.688921Z",
     "start_time": "2024-10-28T12:59:22.680760Z"
    }
   },
   "cell_type": "code",
   "source": "a",
   "id": "fcc98c959d48a814",
   "outputs": [
    {
     "ename": "NameError",
     "evalue": "name 'a' is not defined",
     "output_type": "error",
     "traceback": [
      "\u001B[0;31m---------------------------------------------------------------------------\u001B[0m",
      "\u001B[0;31mNameError\u001B[0m                                 Traceback (most recent call last)",
      "Cell \u001B[0;32mIn[19], line 1\u001B[0m\n\u001B[0;32m----> 1\u001B[0m \u001B[43ma\u001B[49m\n",
      "\u001B[0;31mNameError\u001B[0m: name 'a' is not defined"
     ]
    }
   ],
   "execution_count": 19
  }
 ],
 "metadata": {
  "kernelspec": {
   "display_name": "Python 3",
   "language": "python",
   "name": "python3"
  },
  "language_info": {
   "codemirror_mode": {
    "name": "ipython",
    "version": 2
   },
   "file_extension": ".py",
   "mimetype": "text/x-python",
   "name": "python",
   "nbconvert_exporter": "python",
   "pygments_lexer": "ipython2",
   "version": "2.7.6"
  }
 },
 "nbformat": 4,
 "nbformat_minor": 5
}
