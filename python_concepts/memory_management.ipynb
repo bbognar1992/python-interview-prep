{
 "cells": [
  {
   "metadata": {},
   "cell_type": "markdown",
   "source": "## Memory management",
   "id": "bf99ae87aefc853c"
  },
  {
   "metadata": {},
   "cell_type": "markdown",
   "source": [
    "### 1. Reference Counting\n",
    "In Python, every object keeps track of how many references point to it. The memory allocated to an object is automatically freed when the reference count drops to zero. This is called reference counting."
   ],
   "id": "81a9f90ef4a5d3d6"
  },
  {
   "metadata": {
    "ExecuteTime": {
     "end_time": "2024-10-28T13:50:05.598929Z",
     "start_time": "2024-10-28T13:50:05.595624Z"
    }
   },
   "cell_type": "code",
   "source": [
    "import sys\n",
    "\n",
    "a = []  # Create an empty list\n",
    "b = a   # Assign 'b' to the same list\n",
    "\n",
    "print(sys.getrefcount(a))  # Output will be 3 (a, b, and the argument passed to getrefcount())\n",
    "\n",
    "# Decrease the reference count\n",
    "del b\n",
    "print(sys.getrefcount(a))  # Now the count will be 2 (a and the argument passed to getrefcount())\n"
   ],
   "id": "b244b7d5aadd636",
   "outputs": [
    {
     "name": "stdout",
     "output_type": "stream",
     "text": [
      "3\n",
      "2\n"
     ]
    }
   ],
   "execution_count": 6
  },
  {
   "metadata": {
    "ExecuteTime": {
     "end_time": "2024-10-28T13:50:07.342075Z",
     "start_time": "2024-10-28T13:50:07.331791Z"
    }
   },
   "cell_type": "code",
   "source": [
    "del a\n",
    "sys.getrefcount(a)"
   ],
   "id": "99146c37077c84b6",
   "outputs": [
    {
     "ename": "NameError",
     "evalue": "name 'a' is not defined",
     "output_type": "error",
     "traceback": [
      "\u001B[0;31m---------------------------------------------------------------------------\u001B[0m",
      "\u001B[0;31mNameError\u001B[0m                                 Traceback (most recent call last)",
      "Cell \u001B[0;32mIn[7], line 2\u001B[0m\n\u001B[1;32m      1\u001B[0m \u001B[38;5;28;01mdel\u001B[39;00m a\n\u001B[0;32m----> 2\u001B[0m sys\u001B[38;5;241m.\u001B[39mgetrefcount(\u001B[43ma\u001B[49m)\n",
      "\u001B[0;31mNameError\u001B[0m: name 'a' is not defined"
     ]
    }
   ],
   "execution_count": 7
  },
  {
   "metadata": {},
   "cell_type": "markdown",
   "source": [
    "### 2. Garbage Collection (GC)\n",
    "\n",
    "Python uses a garbage collector to handle memory that’s no longer needed. The garbage collector automatically frees up memory by detecting objects that are no longer reachable (i.e., objects that cannot be accessed from the current running code).\n",
    "\n",
    "Python's garbage collector can also handle circular references (objects that reference each other but are otherwise unreachable). Circular references can't be cleaned up with reference counting alone."
   ],
   "id": "bc8667aa85775ad4"
  },
  {
   "metadata": {},
   "cell_type": "code",
   "outputs": [],
   "execution_count": null,
   "source": [
    "import gc\n",
    "\n",
    "class Node:\n",
    "    def __init__(self, value):\n",
    "        self.value = value\n",
    "        self.next = None\n",
    "\n",
    "# Create a circular reference\n",
    "node1 = Node(1)\n",
    "node2 = Node(2)\n",
    "node1.next = node2\n",
    "node2.next = node1\n",
    "\n",
    "# Delete the references to the nodes\n",
    "del node1\n",
    "del node2\n",
    "\n",
    "# Force garbage collection\n",
    "gc.collect()\n"
   ],
   "id": "e06727904511459e"
  },
  {
   "metadata": {},
   "cell_type": "markdown",
   "source": [
    "### 3. Memory Allocation (Using Heaps and Pools)\n",
    "\n",
    "Python uses a private heap to manage memory. The heap is the space where Python objects and data structures reside.\n",
    "\n",
    "a. Object-specific Allocation\n",
    "\n",
    "Small objects (less than or equal to 256 bytes) are allocated from memory pools, reducing fragmentation.\n",
    "Large objects are directly allocated from the system heap.\n",
    "b. Memory Pooling Example\n",
    "\n",
    "Memory pooling is when Python reuses memory blocks for objects of similar size to avoid the overhead of system-level memory allocation."
   ],
   "id": "f9389c5d6c352b38"
  },
  {
   "metadata": {
    "ExecuteTime": {
     "end_time": "2024-10-28T13:58:02.204549Z",
     "start_time": "2024-10-28T13:58:02.200638Z"
    }
   },
   "cell_type": "code",
   "source": [
    "import sys\n",
    "\n",
    "# Create a small integer\n",
    "x = 100\n",
    "y = 100\n",
    "\n",
    "# Check if they share the same memory location\n",
    "print(id(x) == id(y))  # True, small integers are cached\n",
    "\n",
    "# Create a large integer\n",
    "a = 10**6\n",
    "b = 10**6\n",
    "\n",
    "# Check if they share the same memory location\n",
    "print(id(a) == id(b))  # False, large integers are not cached\n"
   ],
   "id": "c023e6b2c62ebf39",
   "outputs": [
    {
     "name": "stdout",
     "output_type": "stream",
     "text": [
      "True\n",
      "False\n"
     ]
    }
   ],
   "execution_count": 12
  },
  {
   "metadata": {},
   "cell_type": "markdown",
   "source": [
    "### 4. Manual Memory Management: del and gc.collect()\n",
    "Although Python manages memory automatically, you can manually influence memory management using:"
   ],
   "id": "bb4c37e849a9f365"
  },
  {
   "metadata": {
    "ExecuteTime": {
     "end_time": "2024-10-28T14:07:02.939309Z",
     "start_time": "2024-10-28T14:07:02.892993Z"
    }
   },
   "cell_type": "code",
   "source": [
    "import gc\n",
    "\n",
    "# Create a large list\n",
    "large_list = [i for i in range(1000000)]\n",
    "\n",
    "# Delete the list\n",
    "del large_list\n",
    "\n",
    "# Force garbage collection\n",
    "gc.collect()\n"
   ],
   "id": "96694e989b16515",
   "outputs": [
    {
     "data": {
      "text/plain": [
       "0"
      ]
     },
     "execution_count": 14,
     "metadata": {},
     "output_type": "execute_result"
    }
   ],
   "execution_count": 14
  },
  {
   "metadata": {},
   "cell_type": "markdown",
   "source": "Python Heap Map stores every object. ",
   "id": "75f897dbb9a68c3a"
  },
  {
   "metadata": {
    "ExecuteTime": {
     "end_time": "2024-10-28T14:10:26.973858Z",
     "start_time": "2024-10-28T14:10:26.970554Z"
    }
   },
   "cell_type": "code",
   "source": [
    "a = [1, 2, 3]  # Creates a list object on the heap and assigns the reference to 'a'\n",
    "b = a          # 'b' now references the same memory location as 'a'\n",
    "\n",
    "# Let's inspect the memory addresses\n",
    "print(id(a))  # This gives the memory address of the list object\n",
    "print(id(b))  # This will be the same as 'id(a)', as 'b' is referencing the same object\n"
   ],
   "id": "5942dc52a2a111a3",
   "outputs": [
    {
     "name": "stdout",
     "output_type": "stream",
     "text": [
      "4418662464\n",
      "4418662464\n"
     ]
    }
   ],
   "execution_count": 15
  },
  {
   "metadata": {},
   "cell_type": "markdown",
   "source": "## Places of the references",
   "id": "fa4752d9040ad85a"
  },
  {
   "metadata": {
    "ExecuteTime": {
     "end_time": "2024-10-28T14:15:46.415588Z",
     "start_time": "2024-10-28T14:15:46.412319Z"
    }
   },
   "cell_type": "code",
   "source": [
    "# Stack frame\n",
    "def example():\n",
    "    x = 10  # Reference to the integer object 10 is stored in the stack frame of 'example'\n",
    "    lst = [1, 2, 3]  # Reference to the list object is also stored in the stack frame\n",
    "\n",
    "example()\n"
   ],
   "id": "11ead752a7d9f1d7",
   "outputs": [],
   "execution_count": 18
  },
  {
   "metadata": {
    "ExecuteTime": {
     "end_time": "2024-10-28T14:16:26.805870Z",
     "start_time": "2024-10-28T14:16:26.802877Z"
    }
   },
   "cell_type": "code",
   "source": [
    "# Global Variables (Module Level)\n",
    "global_var = \"Hello, World!\"  # This reference is stored in the global namespace\n",
    "\n",
    "print(globals()['global_var'])  # Access the reference using the globals() dictionary\n"
   ],
   "id": "a7bf5048c9d83e41",
   "outputs": [
    {
     "name": "stdout",
     "output_type": "stream",
     "text": [
      "Hello, World!\n"
     ]
    }
   ],
   "execution_count": 19
  },
  {
   "metadata": {
    "ExecuteTime": {
     "end_time": "2024-10-28T14:18:29.597164Z",
     "start_time": "2024-10-28T14:18:29.593825Z"
    }
   },
   "cell_type": "code",
   "source": [
    "# Class and Instance Variables\n",
    "class MyClass:\n",
    "    class_var = 42  # Class variable reference stored in MyClass.__dict__\n",
    "\n",
    "    def __init__(self, value):\n",
    "        self.instance_var = value  # Instance variable reference stored in the object's __dict__\n",
    "\n",
    "obj = MyClass(100)\n",
    "print(MyClass.__dict__['class_var'])   # Access the class variable reference\n",
    "print(obj.__dict__['instance_var'])    # Access the instance variable reference\n"
   ],
   "id": "5e4c0a55990127e4",
   "outputs": [
    {
     "name": "stdout",
     "output_type": "stream",
     "text": [
      "42\n",
      "100\n"
     ]
    }
   ],
   "execution_count": 20
  },
  {
   "metadata": {
    "ExecuteTime": {
     "end_time": "2024-10-28T14:26:44.043160Z",
     "start_time": "2024-10-28T14:26:44.036913Z"
    }
   },
   "cell_type": "code",
   "source": [
    "# Closures and Free Variables\n",
    "def outer():\n",
    "    x = 10\n",
    "    def inner():\n",
    "        print(x)  # 'x' is a free variable captured in the closure\n",
    "    return inner\n",
    "\n",
    "func = outer()\n",
    "func.__closure__  # This contains the reference to the free variable 'x'\n"
   ],
   "id": "35aedc8e08f4e3f1",
   "outputs": [
    {
     "data": {
      "text/plain": [
       "(<cell at 0x1077efd60: int object at 0x104ad6200>,)"
      ]
     },
     "execution_count": 21,
     "metadata": {},
     "output_type": "execute_result"
    }
   ],
   "execution_count": 21
  }
 ],
 "metadata": {
  "kernelspec": {
   "display_name": "Python 3",
   "language": "python",
   "name": "python3"
  },
  "language_info": {
   "codemirror_mode": {
    "name": "ipython",
    "version": 2
   },
   "file_extension": ".py",
   "mimetype": "text/x-python",
   "name": "python",
   "nbconvert_exporter": "python",
   "pygments_lexer": "ipython2",
   "version": "2.7.6"
  }
 },
 "nbformat": 4,
 "nbformat_minor": 5
}
