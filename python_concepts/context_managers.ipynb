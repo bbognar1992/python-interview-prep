{
 "cells": [
  {
   "metadata": {},
   "cell_type": "markdown",
   "source": "# Context Managers",
   "id": "9c7c0da1cba8510a"
  },
  {
   "cell_type": "code",
   "id": "initial_id",
   "metadata": {
    "collapsed": true,
    "ExecuteTime": {
     "end_time": "2024-10-30T11:45:38.398954Z",
     "start_time": "2024-10-30T11:45:38.370905Z"
    }
   },
   "source": [
    "import time\n",
    "\n",
    "class Timer:\n",
    "    def __enter__(self):\n",
    "        # Save the start time\n",
    "        self.start_time = time.time()\n",
    "        print(\"Timer started.\")\n",
    "        return self  # return self so we can use its attributes\n",
    "\n",
    "    def __exit__(self, exc_type, exc_value, traceback):\n",
    "        # Calculate and print the elapsed time\n",
    "        self.end_time = time.time()\n",
    "        self.elapsed_time = self.end_time - self.start_time\n",
    "        print(f\"Elapsed time: {self.elapsed_time} seconds\")\n",
    "        # Handle any exceptions (returning False lets exceptions propagate)\n",
    "        return False\n",
    "\n",
    "# Using the custom context manager\n",
    "with Timer() as timer:\n",
    "    # Simulate a time-consuming task\n",
    "    for _ in range(1000000):\n",
    "        pass\n"
   ],
   "outputs": [
    {
     "name": "stdout",
     "output_type": "stream",
     "text": [
      "Timer started.\n",
      "Elapsed time: 0.02349996566772461 seconds\n"
     ]
    }
   ],
   "execution_count": 1
  }
 ],
 "metadata": {
  "kernelspec": {
   "display_name": "Python 3",
   "language": "python",
   "name": "python3"
  },
  "language_info": {
   "codemirror_mode": {
    "name": "ipython",
    "version": 2
   },
   "file_extension": ".py",
   "mimetype": "text/x-python",
   "name": "python",
   "nbconvert_exporter": "python",
   "pygments_lexer": "ipython2",
   "version": "2.7.6"
  }
 },
 "nbformat": 4,
 "nbformat_minor": 5
}
