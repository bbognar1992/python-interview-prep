{
 "cells": [
  {
   "metadata": {},
   "cell_type": "markdown",
   "source": [
    "## Mutable and mutable\n",
    "Immutable objects cannot be changed once they are created. Any modification will create a new object rather than altering the original one.\n"
   ],
   "id": "67645fd4c9cbf929"
  },
  {
   "metadata": {},
   "cell_type": "markdown",
   "source": "Unmutables",
   "id": "10552b066b71f2d6"
  },
  {
   "metadata": {
    "ExecuteTime": {
     "end_time": "2024-10-19T12:27:53.861705Z",
     "start_time": "2024-10-19T12:27:53.858075Z"
    }
   },
   "cell_type": "code",
   "source": [
    "e1 = \"pelda\"\n",
    "e2 = 1\n",
    "e3 = 2.4"
   ],
   "id": "ecf5196dfd764ca",
   "outputs": [],
   "execution_count": 1
  },
  {
   "metadata": {
    "ExecuteTime": {
     "end_time": "2024-10-19T12:30:11.317112Z",
     "start_time": "2024-10-19T12:30:11.311791Z"
    }
   },
   "cell_type": "code",
   "source": "id(e1)",
   "id": "bf88e949a6ff72a9",
   "outputs": [
    {
     "data": {
      "text/plain": [
       "4699689040"
      ]
     },
     "execution_count": 2,
     "metadata": {},
     "output_type": "execute_result"
    }
   ],
   "execution_count": 2
  },
  {
   "metadata": {
    "ExecuteTime": {
     "end_time": "2024-10-19T12:32:01.906807Z",
     "start_time": "2024-10-19T12:32:01.903014Z"
    }
   },
   "cell_type": "code",
   "source": [
    "e11 = e1 + \"H\"\n",
    "id(e11)"
   ],
   "id": "2ef384e3f3a6e1ef",
   "outputs": [
    {
     "data": {
      "text/plain": [
       "4723054736"
      ]
     },
     "execution_count": 4,
     "metadata": {},
     "output_type": "execute_result"
    }
   ],
   "execution_count": 4
  },
  {
   "metadata": {
    "ExecuteTime": {
     "end_time": "2024-10-19T12:33:00.213887Z",
     "start_time": "2024-10-19T12:33:00.130364Z"
    }
   },
   "cell_type": "code",
   "source": "e1[0] = \"e\"",
   "id": "b2e62017b48f36e9",
   "outputs": [
    {
     "ename": "TypeError",
     "evalue": "'str' object does not support item assignment",
     "output_type": "error",
     "traceback": [
      "\u001B[0;31m---------------------------------------------------------------------------\u001B[0m",
      "\u001B[0;31mTypeError\u001B[0m                                 Traceback (most recent call last)",
      "Cell \u001B[0;32mIn[6], line 1\u001B[0m\n\u001B[0;32m----> 1\u001B[0m \u001B[43me1\u001B[49m\u001B[43m[\u001B[49m\u001B[38;5;241;43m0\u001B[39;49m\u001B[43m]\u001B[49m \u001B[38;5;241m=\u001B[39m \u001B[38;5;124m\"\u001B[39m\u001B[38;5;124me\u001B[39m\u001B[38;5;124m\"\u001B[39m\n",
      "\u001B[0;31mTypeError\u001B[0m: 'str' object does not support item assignment"
     ]
    }
   ],
   "execution_count": 6
  },
  {
   "metadata": {
    "ExecuteTime": {
     "end_time": "2024-10-19T12:33:48.836336Z",
     "start_time": "2024-10-19T12:33:48.833525Z"
    }
   },
   "cell_type": "code",
   "source": "id(e2)",
   "id": "f816d77686681a07",
   "outputs": [
    {
     "data": {
      "text/plain": [
       "4343341280"
      ]
     },
     "execution_count": 9,
     "metadata": {},
     "output_type": "execute_result"
    }
   ],
   "execution_count": 9
  },
  {
   "metadata": {
    "ExecuteTime": {
     "end_time": "2024-10-19T12:34:13.053660Z",
     "start_time": "2024-10-19T12:34:13.050335Z"
    }
   },
   "cell_type": "code",
   "source": [
    "e2 = e2 +1\n",
    "id(e2)"
   ],
   "id": "b0f5fd4ea161c2a2",
   "outputs": [
    {
     "data": {
      "text/plain": [
       "4343341344"
      ]
     },
     "execution_count": 11,
     "metadata": {},
     "output_type": "execute_result"
    }
   ],
   "execution_count": 11
  },
  {
   "metadata": {
    "ExecuteTime": {
     "end_time": "2024-10-19T12:36:50.529276Z",
     "start_time": "2024-10-19T12:36:50.526200Z"
    }
   },
   "cell_type": "code",
   "source": [
    "t = ()\n",
    "type(t)"
   ],
   "id": "3b974406a530bc8b",
   "outputs": [
    {
     "data": {
      "text/plain": [
       "tuple"
      ]
     },
     "execution_count": 13,
     "metadata": {},
     "output_type": "execute_result"
    }
   ],
   "execution_count": 13
  },
  {
   "metadata": {},
   "cell_type": "markdown",
   "source": "Mutables\n",
   "id": "964696139325365c"
  },
  {
   "metadata": {
    "ExecuteTime": {
     "end_time": "2024-10-19T12:39:51.064803Z",
     "start_time": "2024-10-19T12:39:51.061364Z"
    }
   },
   "cell_type": "code",
   "source": [
    "l = []\n",
    "l.append(1)\n",
    "l.append(2)\n",
    "l"
   ],
   "id": "354fc7e2398be7dd",
   "outputs": [
    {
     "data": {
      "text/plain": [
       "[1, 2]"
      ]
     },
     "execution_count": 22,
     "metadata": {},
     "output_type": "execute_result"
    }
   ],
   "execution_count": 22
  },
  {
   "metadata": {
    "ExecuteTime": {
     "end_time": "2024-10-19T12:39:59.435023Z",
     "start_time": "2024-10-19T12:39:59.432051Z"
    }
   },
   "cell_type": "code",
   "source": "id(l)",
   "id": "11512371368988e5",
   "outputs": [
    {
     "data": {
      "text/plain": [
       "4729290048"
      ]
     },
     "execution_count": 23,
     "metadata": {},
     "output_type": "execute_result"
    }
   ],
   "execution_count": 23
  },
  {
   "metadata": {
    "ExecuteTime": {
     "end_time": "2024-10-19T12:40:03.705613Z",
     "start_time": "2024-10-19T12:40:03.702492Z"
    }
   },
   "cell_type": "code",
   "source": [
    "l.remove(1)\n",
    "l"
   ],
   "id": "d3d1d1a990a6d708",
   "outputs": [
    {
     "data": {
      "text/plain": [
       "[2]"
      ]
     },
     "execution_count": 24,
     "metadata": {},
     "output_type": "execute_result"
    }
   ],
   "execution_count": 24
  },
  {
   "metadata": {
    "ExecuteTime": {
     "end_time": "2024-10-19T12:40:15.797526Z",
     "start_time": "2024-10-19T12:40:15.794187Z"
    }
   },
   "cell_type": "code",
   "source": "id(l)",
   "id": "6026ee5998479dbf",
   "outputs": [
    {
     "data": {
      "text/plain": [
       "4729290048"
      ]
     },
     "execution_count": 25,
     "metadata": {},
     "output_type": "execute_result"
    }
   ],
   "execution_count": 25
  },
  {
   "metadata": {},
   "cell_type": "code",
   "outputs": [],
   "execution_count": null,
   "source": "",
   "id": "cd65a801537e52de"
  },
  {
   "metadata": {},
   "cell_type": "markdown",
   "source": "",
   "id": "b11b3b5ef5ef7d0c"
  }
 ],
 "metadata": {
  "kernelspec": {
   "display_name": "Python 3",
   "language": "python",
   "name": "python3"
  },
  "language_info": {
   "codemirror_mode": {
    "name": "ipython",
    "version": 2
   },
   "file_extension": ".py",
   "mimetype": "text/x-python",
   "name": "python",
   "nbconvert_exporter": "python",
   "pygments_lexer": "ipython2",
   "version": "2.7.6"
  }
 },
 "nbformat": 4,
 "nbformat_minor": 5
}
