{
 "cells": [
  {
   "metadata": {},
   "cell_type": "markdown",
   "source": "# Hash table: Open Addressing with Linear Probing",
   "id": "ec28652e09b221d4"
  },
  {
   "metadata": {
    "collapsed": true,
    "ExecuteTime": {
     "end_time": "2024-11-12T11:50:08.650337Z",
     "start_time": "2024-11-12T11:50:08.644065Z"
    }
   },
   "cell_type": "code",
   "source": [
    "# Define a small hash table size for demonstration\n",
    "hash_table = [None] * 5  # A list of 5 slots, initially all empty\n",
    "\n",
    "def hash_key(key, size):\n",
    "    \"\"\"Simple hash function for demonstration.\"\"\"\n",
    "    return hash(key) % size\n",
    "\n",
    "def insert_open_addressing(hash_table, key, value):\n",
    "    \"\"\"Insert a key-value pair into the hash table using open addressing with linear probing.\"\"\"\n",
    "    index = hash_key(key, len(hash_table))\n",
    "    original_index = index\n",
    "    step = 1  # Linear probing step\n",
    "\n",
    "    # Find an available slot\n",
    "    while hash_table[index] is not None:\n",
    "        if hash_table[index][0] == key:\n",
    "            # Update existing key\n",
    "            hash_table[index] = (key, value)\n",
    "            return\n",
    "        index = (original_index + step) % len(hash_table)\n",
    "        step += 1\n",
    "\n",
    "        # If we looped back to the original index, the table is full\n",
    "        if index == original_index:\n",
    "            raise Exception(\"Hash table is full\")\n",
    "\n",
    "    # Insert the new key-value pair\n",
    "    hash_table[index] = (key, value)\n",
    "\n",
    "def retrieve_open_addressing(hash_table, key):\n",
    "    \"\"\"Retrieve the value for a given key using open addressing with linear probing.\"\"\"\n",
    "    index = hash_key(key, len(hash_table))\n",
    "    original_index = index\n",
    "    step = 1\n",
    "\n",
    "    # Start probing sequence\n",
    "    while hash_table[index] is not None:\n",
    "        if hash_table[index][0] == key:\n",
    "            # Key found, return the associated value\n",
    "            return hash_table[index][1]\n",
    "        \n",
    "        # Move to the next slot\n",
    "        index = (original_index + step) % len(hash_table)\n",
    "        step += 1\n",
    "\n",
    "        # If we've looped back to the original index, the key is not present\n",
    "        if index == original_index:\n",
    "            break\n",
    "\n",
    "    # Key not found\n",
    "    return None\n",
    "\n",
    "# Insert key-value pairs into the hash table\n",
    "insert_open_addressing(hash_table, \"apple\", 10)\n",
    "insert_open_addressing(hash_table, \"banana\", 20)\n",
    "insert_open_addressing(hash_table, \"cherry\", 30)\n",
    "\n",
    "# Display the hash table for visualization\n",
    "print(\"Hash Table:\", hash_table)\n",
    "\n",
    "# Retrieve values for given keys\n",
    "print(\"Value for 'apple':\", retrieve_open_addressing(hash_table, \"apple\"))  # Expected output: 10\n",
    "print(\"Value for 'banana':\", retrieve_open_addressing(hash_table, \"banana\"))  # Expected output: 20\n",
    "print(\"Value for 'cherry':\", retrieve_open_addressing(hash_table, \"cherry\"))  # Expected output: 30\n",
    "print(\"Value for 'date' (not in table):\", retrieve_open_addressing(hash_table, \"date\"))  # Expected output: None\n"
   ],
   "id": "initial_id",
   "outputs": [
    {
     "name": "stdout",
     "output_type": "stream",
     "text": [
      "Hash Table: [('apple', 10), ('banana', 20), None, None, ('cherry', 30)]\n",
      "Value for 'apple': 10\n",
      "Value for 'banana': 20\n",
      "Value for 'cherry': 30\n",
      "Value for 'date' (not in table): None\n"
     ]
    }
   ],
   "execution_count": 6
  },
  {
   "metadata": {},
   "cell_type": "code",
   "outputs": [],
   "execution_count": null,
   "source": "",
   "id": "ae5508de3f30eaa8"
  }
 ],
 "metadata": {
  "kernelspec": {
   "display_name": "Python 3",
   "language": "python",
   "name": "python3"
  },
  "language_info": {
   "codemirror_mode": {
    "name": "ipython",
    "version": 2
   },
   "file_extension": ".py",
   "mimetype": "text/x-python",
   "name": "python",
   "nbconvert_exporter": "python",
   "pygments_lexer": "ipython2",
   "version": "2.7.6"
  }
 },
 "nbformat": 4,
 "nbformat_minor": 5
}
