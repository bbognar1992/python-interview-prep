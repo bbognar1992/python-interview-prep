{
 "cells": [
  {
   "metadata": {},
   "cell_type": "markdown",
   "source": "## Builtin function",
   "id": "60bf2bd31ab6915c"
  },
  {
   "cell_type": "code",
   "id": "initial_id",
   "metadata": {
    "collapsed": true,
    "ExecuteTime": {
     "end_time": "2024-10-19T13:19:27.066592Z",
     "start_time": "2024-10-19T13:19:27.062875Z"
    }
   },
   "source": [
    "names = ('Bence', 'Levente', 'Lehel')\n",
    "ages = (32,31,25)\n",
    "list(zip(names,ages))"
   ],
   "outputs": [
    {
     "data": {
      "text/plain": [
       "[('Bence', 32), ('Levente', 31), ('Lehel', 25)]"
      ]
     },
     "execution_count": 1,
     "metadata": {},
     "output_type": "execute_result"
    }
   ],
   "execution_count": 1
  },
  {
   "metadata": {
    "ExecuteTime": {
     "end_time": "2024-10-19T13:26:14.566773Z",
     "start_time": "2024-10-19T13:26:14.558695Z"
    }
   },
   "cell_type": "code",
   "source": "callable(len)",
   "id": "b9de276e3eb7e63f",
   "outputs": [
    {
     "data": {
      "text/plain": [
       "True"
      ]
     },
     "execution_count": 2,
     "metadata": {},
     "output_type": "execute_result"
    }
   ],
   "execution_count": 2
  },
  {
   "metadata": {
    "ExecuteTime": {
     "end_time": "2024-10-19T13:26:35.508259Z",
     "start_time": "2024-10-19T13:26:35.503851Z"
    }
   },
   "cell_type": "code",
   "source": "isinstance(object, object)",
   "id": "22cd8ee04f225f54",
   "outputs": [
    {
     "data": {
      "text/plain": [
       "True"
      ]
     },
     "execution_count": 3,
     "metadata": {},
     "output_type": "execute_result"
    }
   ],
   "execution_count": 3
  },
  {
   "metadata": {
    "ExecuteTime": {
     "end_time": "2024-10-19T13:26:51.400463Z",
     "start_time": "2024-10-19T13:26:51.396724Z"
    }
   },
   "cell_type": "code",
   "source": "bool(1)",
   "id": "3558a66b95eb6b5f",
   "outputs": [
    {
     "data": {
      "text/plain": [
       "True"
      ]
     },
     "execution_count": 4,
     "metadata": {},
     "output_type": "execute_result"
    }
   ],
   "execution_count": 4
  },
  {
   "metadata": {
    "ExecuteTime": {
     "end_time": "2024-10-19T13:26:58.392073Z",
     "start_time": "2024-10-19T13:26:58.388140Z"
    }
   },
   "cell_type": "code",
   "source": "bool(3123)",
   "id": "957005838fe7a750",
   "outputs": [
    {
     "data": {
      "text/plain": [
       "True"
      ]
     },
     "execution_count": 5,
     "metadata": {},
     "output_type": "execute_result"
    }
   ],
   "execution_count": 5
  },
  {
   "metadata": {
    "ExecuteTime": {
     "end_time": "2024-10-19T13:27:06.179656Z",
     "start_time": "2024-10-19T13:27:06.175641Z"
    }
   },
   "cell_type": "code",
   "source": "bool(-1)",
   "id": "7691b5ffed24c069",
   "outputs": [
    {
     "data": {
      "text/plain": [
       "True"
      ]
     },
     "execution_count": 6,
     "metadata": {},
     "output_type": "execute_result"
    }
   ],
   "execution_count": 6
  },
  {
   "metadata": {
    "ExecuteTime": {
     "end_time": "2024-10-19T13:27:25.430512Z",
     "start_time": "2024-10-19T13:27:25.427646Z"
    }
   },
   "cell_type": "code",
   "source": "bin(3)",
   "id": "45e45969b1431ec3",
   "outputs": [
    {
     "data": {
      "text/plain": [
       "'0b11'"
      ]
     },
     "execution_count": 7,
     "metadata": {},
     "output_type": "execute_result"
    }
   ],
   "execution_count": 7
  },
  {
   "metadata": {
    "ExecuteTime": {
     "end_time": "2024-10-19T13:27:51.262709Z",
     "start_time": "2024-10-19T13:27:51.259475Z"
    }
   },
   "cell_type": "code",
   "source": "any([2, \"non-empty\", False])",
   "id": "9fd5740ab3696a79",
   "outputs": [
    {
     "data": {
      "text/plain": [
       "True"
      ]
     },
     "execution_count": 8,
     "metadata": {},
     "output_type": "execute_result"
    }
   ],
   "execution_count": 8
  },
  {
   "metadata": {
    "ExecuteTime": {
     "end_time": "2024-10-19T13:28:23.975659Z",
     "start_time": "2024-10-19T13:28:23.971969Z"
    }
   },
   "cell_type": "code",
   "source": "all([True, False])",
   "id": "aeecd96d741220b2",
   "outputs": [
    {
     "data": {
      "text/plain": [
       "False"
      ]
     },
     "execution_count": 10,
     "metadata": {},
     "output_type": "execute_result"
    }
   ],
   "execution_count": 10
  },
  {
   "metadata": {
    "ExecuteTime": {
     "end_time": "2024-10-19T13:29:14.488751Z",
     "start_time": "2024-10-19T13:29:14.484172Z"
    }
   },
   "cell_type": "code",
   "outputs": [
    {
     "name": "stdout",
     "output_type": "stream",
     "text": [
      "Help on built-in function print in module builtins:\n",
      "\n",
      "print(*args, sep=' ', end='\\n', file=None, flush=False)\n",
      "    Prints the values to a stream, or to sys.stdout by default.\n",
      "\n",
      "    sep\n",
      "      string inserted between values, default a space.\n",
      "    end\n",
      "      string appended after the last value, default a newline.\n",
      "    file\n",
      "      a file-like object (stream); defaults to the current sys.stdout.\n",
      "    flush\n",
      "      whether to forcibly flush the stream.\n",
      "\n"
     ]
    }
   ],
   "execution_count": 11,
   "source": "help(print)",
   "id": "73a57972a19267ae"
  },
  {
   "metadata": {},
   "cell_type": "code",
   "outputs": [],
   "execution_count": null,
   "source": "",
   "id": "b7380025212e80ea"
  }
 ],
 "metadata": {
  "kernelspec": {
   "display_name": "Python 3",
   "language": "python",
   "name": "python3"
  },
  "language_info": {
   "codemirror_mode": {
    "name": "ipython",
    "version": 2
   },
   "file_extension": ".py",
   "mimetype": "text/x-python",
   "name": "python",
   "nbconvert_exporter": "python",
   "pygments_lexer": "ipython2",
   "version": "2.7.6"
  }
 },
 "nbformat": 4,
 "nbformat_minor": 5
}
