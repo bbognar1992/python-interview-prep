{
 "cells": [
  {
   "cell_type": "code",
   "id": "initial_id",
   "metadata": {
    "collapsed": true,
    "ExecuteTime": {
     "end_time": "2024-11-12T12:55:18.985024Z",
     "start_time": "2024-11-12T12:55:18.972396Z"
    }
   },
   "source": [
    "import ctypes\n",
    "\n",
    "class FixedArray:\n",
    "    def __init__(self, element_type, capacity):\n",
    "        if not isinstance(element_type, type):\n",
    "            raise TypeError(\"element_type must be a valid Python type\")\n",
    "        if capacity <= 0:\n",
    "            raise ValueError(\"Capacity must be a positive integer\")\n",
    "        \n",
    "        self._element_type = element_type\n",
    "        self._capacity = capacity\n",
    "        self._size = 0\n",
    "        self._data = self._make_array(self._capacity)\n",
    "\n",
    "    def _make_array(self, capacity):\n",
    "        \"\"\"Create a fixed-size array with the given capacity.\"\"\"\n",
    "        return (capacity * ctypes.py_object)()  # Allocate a fixed array with ctypes\n",
    "\n",
    "    def append(self, value):\n",
    "        \"\"\"Add an element at the end if there's space.\"\"\"\n",
    "        self._check_type(value)\n",
    "        if self._size >= self._capacity:\n",
    "            raise OverflowError(\"Cannot add more elements, array is full\")\n",
    "        self._data[self._size] = value\n",
    "        self._size += 1\n",
    "\n",
    "    def get(self, index):\n",
    "        \"\"\"Retrieve the element at the specified index.\"\"\"\n",
    "        if index < 0 or index >= self._size:\n",
    "            raise IndexError(\"Index out of bounds\")\n",
    "        return self._data[index]\n",
    "\n",
    "    def set(self, index, value):\n",
    "        \"\"\"Set the element at the specified index.\"\"\"\n",
    "        self._check_type(value)\n",
    "        if index < 0 or index >= self._size:\n",
    "            raise IndexError(\"Index out of bounds\")\n",
    "        self._data[index] = value\n",
    "\n",
    "    def remove(self, index):\n",
    "        \"\"\"Remove an element at the specified index and shift elements left.\"\"\"\n",
    "        if index < 0 or index >= self._size:\n",
    "            raise IndexError(\"Index out of bounds\")\n",
    "        for i in range(index, self._size - 1):\n",
    "            self._data[i] = self._data[i + 1]\n",
    "        self._data[self._size - 1] = None  # Clear the last element\n",
    "        self._size -= 1\n",
    "\n",
    "    def _check_type(self, value):\n",
    "        \"\"\"Check if the value is of the correct type.\"\"\"\n",
    "        if not isinstance(value, self._element_type):\n",
    "            raise TypeError(f\"All elements must be of type {self._element_type.__name__}\")\n",
    "\n",
    "    def size(self):\n",
    "        \"\"\"Return the current number of elements in the array.\"\"\"\n",
    "        return self._size\n",
    "\n",
    "    def capacity(self):\n",
    "        \"\"\"Return the fixed capacity of the array.\"\"\"\n",
    "        return self._capacity\n",
    "\n",
    "    def is_empty(self):\n",
    "        \"\"\"Check if the array is empty.\"\"\"\n",
    "        return self._size == 0\n",
    "\n",
    "    def is_full(self):\n",
    "        \"\"\"Check if the array is full.\"\"\"\n",
    "        return self._size == self._capacity\n",
    "\n",
    "    def __str__(self):\n",
    "        \"\"\"String representation of the array contents.\"\"\"\n",
    "        return \"[\" + \", \".join(str(self._data[i]) for i in range(self._size)) + \"]\"\n",
    "\n",
    "# Example usage:\n",
    "fixed_arr = FixedArray(int, 5)\n",
    "fixed_arr.append(1)\n",
    "fixed_arr.append(2)\n",
    "print(fixed_arr)             # Output: [1, 2]\n",
    "print(fixed_arr.size())       # Output: 2\n",
    "print(fixed_arr.capacity())   # Output: 5\n",
    "print(fixed_arr.is_full())    # Output: False\n",
    "\n",
    "# fixed_arr.append(\"string\")   # Raises TypeError: All elements must be of type int\n",
    "# for _ in range(4):           # Raises OverflowError when trying to exceed capacity\n",
    "#     fixed_arr.append(3)\n"
   ],
   "outputs": [
    {
     "name": "stdout",
     "output_type": "stream",
     "text": [
      "[1, 2]\n",
      "2\n",
      "5\n",
      "False\n"
     ]
    }
   ],
   "execution_count": 2
  },
  {
   "metadata": {
    "ExecuteTime": {
     "end_time": "2024-11-12T12:59:21.812865Z",
     "start_time": "2024-11-12T12:59:21.809513Z"
    }
   },
   "cell_type": "code",
   "source": [
    "import ctypes\n",
    "\n",
    "# Define the size of the array\n",
    "array_size = 5\n",
    "\n",
    "# Create a fixed-size array of C integers\n",
    "c_int_array = (ctypes.c_int * array_size)()\n",
    "\n",
    "# Assign values to the array\n",
    "c_int_array[0] = 10\n",
    "c_int_array[1] = 20\n",
    "c_int_array[2] = 30\n",
    "c_int_array[3] = 40\n",
    "c_int_array[4] = 50\n",
    "\n",
    "# Access elements\n",
    "print(c_int_array[2])  # Output: 30\n",
    "\n",
    "# Iterate over the array\n",
    "for value in c_int_array:\n",
    "    print(value)\n"
   ],
   "id": "24c0130aae94f80b",
   "outputs": [
    {
     "name": "stdout",
     "output_type": "stream",
     "text": [
      "30\n",
      "10\n",
      "20\n",
      "30\n",
      "40\n",
      "50\n"
     ]
    }
   ],
   "execution_count": 3
  },
  {
   "metadata": {
    "ExecuteTime": {
     "end_time": "2024-11-12T13:00:33.740066Z",
     "start_time": "2024-11-12T13:00:33.735787Z"
    }
   },
   "cell_type": "code",
   "source": "c_int_array",
   "id": "cbdad56c6632ac6e",
   "outputs": [
    {
     "data": {
      "text/plain": [
       "<__main__.c_int_Array_5 at 0x103688cd0>"
      ]
     },
     "execution_count": 4,
     "metadata": {},
     "output_type": "execute_result"
    }
   ],
   "execution_count": 4
  }
 ],
 "metadata": {
  "kernelspec": {
   "display_name": "Python 3",
   "language": "python",
   "name": "python3"
  },
  "language_info": {
   "codemirror_mode": {
    "name": "ipython",
    "version": 2
   },
   "file_extension": ".py",
   "mimetype": "text/x-python",
   "name": "python",
   "nbconvert_exporter": "python",
   "pygments_lexer": "ipython2",
   "version": "2.7.6"
  }
 },
 "nbformat": 4,
 "nbformat_minor": 5
}
