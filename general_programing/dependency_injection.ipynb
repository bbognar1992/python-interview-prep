{
 "cells": [
  {
   "metadata": {},
   "cell_type": "markdown",
   "source": "# Dependency injection",
   "id": "7782999b9f68a998"
  },
  {
   "metadata": {},
   "cell_type": "markdown",
   "source": "Here, the Car class is tightly coupled to the Engine class since it directly creates an Engine instance. If we wanted to use a different kind of engine, we’d have to modify the Car class itself, which can be inflexible.",
   "id": "9ab8bbf74181fe2e"
  },
  {
   "metadata": {
    "collapsed": true,
    "ExecuteTime": {
     "end_time": "2024-10-29T08:49:27.389767Z",
     "start_time": "2024-10-29T08:49:27.386534Z"
    }
   },
   "cell_type": "code",
   "outputs": [],
   "execution_count": 1,
   "source": [
    "class Engine:\n",
    "    def start(self):\n",
    "        print(\"Engine started\")\n",
    "\n",
    "\n",
    "class Car:\n",
    "    def __init__(self):\n",
    "        self.engine = Engine()  # Directly creates an Engine instance\n",
    "\n",
    "    def drive(self):\n",
    "        self.engine.start()\n",
    "        print(\"Car is driving\")"
   ],
   "id": "initial_id"
  },
  {
   "metadata": {},
   "cell_type": "markdown",
   "source": "With dependency injection, we pass the dependency (Engine in this case) to Car from the outside:",
   "id": "2069b8fb914e0df5"
  },
  {
   "metadata": {
    "ExecuteTime": {
     "end_time": "2024-10-29T08:51:40.932147Z",
     "start_time": "2024-10-29T08:51:40.929322Z"
    }
   },
   "cell_type": "code",
   "source": [
    "class Engine:\n",
    "    def start(self):\n",
    "        print(\"Engine started\")\n",
    "\n",
    "\n",
    "class Car:\n",
    "    def __init__(self, engine):\n",
    "        self.engine = engine  # Dependency is injected\n",
    "\n",
    "    def drive(self):\n",
    "        self.engine.start()\n",
    "        print(\"Car is driving\")\n"
   ],
   "id": "fe71f67778adcf9a",
   "outputs": [],
   "execution_count": 2
  },
  {
   "metadata": {},
   "cell_type": "markdown",
   "source": "Now, Car doesn’t create its own Engine instance. Instead, it receives an Engine (or any object with a similar interface) when it’s constructed. This way, Car depends on an abstraction rather than a specific implementation.",
   "id": "ee42e5d32898540c"
  },
  {
   "metadata": {},
   "cell_type": "code",
   "outputs": [],
   "execution_count": null,
   "source": "",
   "id": "7d493d8803d8b7b0"
  },
  {
   "metadata": {},
   "cell_type": "markdown",
   "source": "### Types of Dependency Injection",
   "id": "becb7c0311622bf6"
  },
  {
   "metadata": {},
   "cell_type": "code",
   "outputs": [],
   "execution_count": null,
   "source": [
    "# Constructor Injection: Dependencies are passed via the constructor.\n",
    "class Car:\n",
    "    def __init__(self, engine: Engine):  # Constructor Injection\n",
    "        self.engine = engine  # Dependency is injected here\n",
    "\n",
    "    def drive(self):\n",
    "        self.engine.start()\n",
    "        print(\"Car is driving\")\n",
    "\n",
    " # Instantiate the dependency\n",
    "engine = Engine()\n",
    "\n",
    "# Inject the dependency into Car\n",
    "car = Car(engine)\n",
    "\n",
    "# Use the Car instance\n",
    "car.drive()\n"
   ],
   "id": "65766682e4536ac0"
  },
  {
   "metadata": {},
   "cell_type": "code",
   "outputs": [],
   "execution_count": null,
   "source": [
    "# Setter Injection: Dependencies are passed through setter methods after object creation.\n",
    "class Car:\n",
    "    def __init__(self):\n",
    "        self.engine = None  # Engine dependency is not set in the constructor\n",
    "\n",
    "    def set_engine(self, engine: Engine):  # Setter Injection method\n",
    "        self.engine = engine\n",
    "\n",
    "    def drive(self):\n",
    "        if self.engine is None:\n",
    "            print(\"No engine found! Cannot drive.\")\n",
    "        else:\n",
    "            self.engine.start()\n",
    "            print(\"Car is driving\")\n",
    "\n",
    "# Create the main Car instance\n",
    "car = Car()\n",
    "\n",
    "# Attempt to drive without setting the engine\n",
    "car.drive()  # Output: No engine found! Cannot drive.\n",
    "\n",
    "# Create and set the Engine instance\n",
    "engine = Engine()\n",
    "car.set_engine(engine)  # Inject the dependency using the setter method\n",
    "\n",
    "# Drive the car\n",
    "car.drive()\n"
   ],
   "id": "eaee4c0a5edc744b"
  },
  {
   "metadata": {},
   "cell_type": "code",
   "outputs": [],
   "execution_count": null,
   "source": [
    "# Interface Injection: Dependencies are passed through an interface method, often used in languages with formal interfaces\n",
    "from abc import ABC, abstractmethod\n",
    "\n",
    "class EngineInterface(ABC):\n",
    "    @abstractmethod\n",
    "    def start(self):\n",
    "        pass\n",
    "\n",
    "class CombustionEngine(EngineInterface):\n",
    "    def start(self):\n",
    "        print(\"Combustion engine started\")\n",
    "\n",
    "class EngineInjectable(ABC):\n",
    "    @abstractmethod\n",
    "    def set_engine(self, engine: EngineInterface):\n",
    "        pass\n",
    "    \n",
    "class Car(EngineInjectable):\n",
    "    def __init__(self):\n",
    "        self.engine = None\n",
    "\n",
    "    def set_engine(self, engine: EngineInterface):  # Interface Injection method\n",
    "        self.engine = engine\n",
    "\n",
    "    def drive(self):\n",
    "        if self.engine is None:\n",
    "            print(\"No engine found! Cannot drive.\")\n",
    "        else:\n",
    "            self.engine.start()\n",
    "            print(\"Car is driving\")\n",
    "\n",
    "\n",
    "# Instantiate the dependency\n",
    "engine = CombustionEngine()\n",
    "\n",
    "# Create a Car instance and inject the engine dependency\n",
    "car = Car()\n",
    "car.set_engine(engine)  # Injecting dependency through the interface method\n",
    "\n",
    "# Drive the car\n",
    "car.drive()\n"
   ],
   "id": "fd96d34ac00834b0"
  }
 ],
 "metadata": {
  "kernelspec": {
   "display_name": "Python 3",
   "language": "python",
   "name": "python3"
  },
  "language_info": {
   "codemirror_mode": {
    "name": "ipython",
    "version": 2
   },
   "file_extension": ".py",
   "mimetype": "text/x-python",
   "name": "python",
   "nbconvert_exporter": "python",
   "pygments_lexer": "ipython2",
   "version": "2.7.6"
  }
 },
 "nbformat": 4,
 "nbformat_minor": 5
}
