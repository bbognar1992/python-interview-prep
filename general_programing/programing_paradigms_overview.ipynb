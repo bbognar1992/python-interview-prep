{
 "cells": [
  {
   "metadata": {},
   "cell_type": "markdown",
   "source": "# Programing Paradigms",
   "id": "2edafb18ac949ed"
  },
  {
   "metadata": {},
   "cell_type": "markdown",
   "source": [
    "| Paradigm                        | Description                                                          | Example Languages                    |\n",
    "|---------------------------------|----------------------------------------------------------------------|--------------------------------------|\n",
    "| **Functional Programming**      | Uses pure functions, immutability, and function composition.         | Haskell, Lisp, Scala, Python         |\n",
    "| **Imperative Programming**      | Focuses on a sequence of commands that change program state.         | C, Fortran, Assembly                 |\n",
    "| **Procedural Programming**      | Breaks programs into functions/procedures.                           | C, Pascal, Python                    |\n",
    "| **Object-Oriented Programming** | Organizes code around objects with data and behavior.                | Java, C++, Python, Ruby              |\n",
    "| **Declarative Programming**     | Specifies what the program should accomplish.                        | SQL, HTML/CSS, Prolog                |\n",
    "| **Logic Programming**           | Uses rules and facts to perform computations.                        | Prolog, Datalog                      |\n",
    "| **Event-Driven Programming**    | Execution flow is determined by events.                              | JavaScript, Node.js, Visual Basic    |\n",
    "| **Concurrent Programming**      | Involves executing multiple tasks simultaneously.                    | Go, Java, Python (with libraries)    |\n"
   ],
   "id": "5177c4476c53921c"
  },
  {
   "metadata": {
    "ExecuteTime": {
     "end_time": "2024-10-28T15:00:17.146859Z",
     "start_time": "2024-10-28T15:00:17.144038Z"
    }
   },
   "cell_type": "code",
   "source": [
    "# 1. Functional Programming\n",
    "# Using map() to square a list of numbers\n",
    "numbers = [1, 2, 3, 4, 5]\n",
    "squared_numbers = list(map(lambda x: x * x, numbers))\n",
    "print(squared_numbers)  # Output: [1, 4, 9, 16, 25]\n",
    "\n",
    "# Using filter() to get even numbers\n",
    "even_numbers = list(filter(lambda x: x % 2 == 0, numbers))\n",
    "print(even_numbers)  # Output: [2, 4]\n"
   ],
   "id": "325be0c55619ebfd",
   "outputs": [
    {
     "name": "stdout",
     "output_type": "stream",
     "text": [
      "[1, 4, 9, 16, 25]\n",
      "[2, 4]\n"
     ]
    }
   ],
   "execution_count": 1
  },
  {
   "metadata": {
    "ExecuteTime": {
     "end_time": "2024-10-28T15:03:02.733529Z",
     "start_time": "2024-10-28T15:03:02.729608Z"
    }
   },
   "cell_type": "code",
   "source": [
    "# 2. Imperative Programming\n",
    "# Imperative approach to squaring a list of numbers\n",
    "numbers = [1, 2, 3, 4, 5]\n",
    "squared_numbers = []\n",
    "for number in numbers:\n",
    "    squared_numbers.append(number * number)\n",
    "\n",
    "print(squared_numbers)  # Output: [1, 4, 9, 16, 25]\n"
   ],
   "id": "623d2c3be6034f8b",
   "outputs": [
    {
     "name": "stdout",
     "output_type": "stream",
     "text": [
      "[1, 4, 9, 16, 25]\n"
     ]
    }
   ],
   "execution_count": 2
  },
  {
   "metadata": {
    "ExecuteTime": {
     "end_time": "2024-10-28T15:03:25.227417Z",
     "start_time": "2024-10-28T15:03:25.224259Z"
    }
   },
   "cell_type": "code",
   "source": [
    "# 3. Procedural Programming\n",
    "def square_list(numbers):\n",
    "    return [x * x for x in numbers]\n",
    "\n",
    "def filter_even(numbers):\n",
    "    return [x for x in numbers if x % 2 == 0]\n",
    "\n",
    "numbers = [1, 2, 3, 4, 5]\n",
    "squared_numbers = square_list(numbers)\n",
    "even_numbers = filter_even(numbers)\n",
    "\n",
    "print(squared_numbers)  # Output: [1, 4, 9, 16, 25]\n",
    "print(even_numbers)     # Output: [2, 4]\n"
   ],
   "id": "397e9b948ce1dea3",
   "outputs": [
    {
     "name": "stdout",
     "output_type": "stream",
     "text": [
      "[1, 4, 9, 16, 25]\n",
      "[2, 4]\n"
     ]
    }
   ],
   "execution_count": 3
  },
  {
   "metadata": {
    "ExecuteTime": {
     "end_time": "2024-10-28T15:04:54.568911Z",
     "start_time": "2024-10-28T15:04:54.565031Z"
    }
   },
   "cell_type": "code",
   "source": [
    "# 4. Object-Oriented Programming (OOP)\n",
    "class SquareCalculator:\n",
    "    def __init__(self, numbers):\n",
    "        self.numbers = numbers\n",
    "\n",
    "    def get_squared(self):\n",
    "        return [x * x for x in self.numbers]\n",
    "\n",
    "class EvenFilter:\n",
    "    def __init__(self, numbers):\n",
    "        self.numbers = numbers\n",
    "\n",
    "    def get_even(self):\n",
    "        return [x for x in self.numbers if x % 2 == 0]\n",
    "\n",
    "numbers = [1, 2, 3, 4, 5]\n",
    "calculator = SquareCalculator(numbers)\n",
    "filter_even = EvenFilter(numbers)\n",
    "\n",
    "print(calculator.get_squared())  # Output: [1, 4, 9, 16, 25]\n",
    "print(filter_even.get_even())    # Output: [2, 4]\n"
   ],
   "id": "c3ecca6a38b74d42",
   "outputs": [
    {
     "name": "stdout",
     "output_type": "stream",
     "text": [
      "[1, 4, 9, 16, 25]\n",
      "[2, 4]\n"
     ]
    }
   ],
   "execution_count": 7
  },
  {
   "metadata": {
    "ExecuteTime": {
     "end_time": "2024-10-28T15:08:18.300803Z",
     "start_time": "2024-10-28T15:08:18.297332Z"
    }
   },
   "cell_type": "code",
   "source": [
    "# 5. Declarative Programming\n",
    "# Squaring a list of numbers declaratively\n",
    "numbers = [1, 2, 3, 4, 5]\n",
    "squared_numbers = [x * x for x in numbers]\n",
    "even_numbers = [x for x in numbers if x % 2 == 0]\n",
    "\n",
    "print(squared_numbers)  # Output: [1, 4, 9, 16, 25]\n",
    "print(even_numbers)     # Output: [2, 4]\n"
   ],
   "id": "b4805dcd4e48589c",
   "outputs": [
    {
     "name": "stdout",
     "output_type": "stream",
     "text": [
      "[1, 4, 9, 16, 25]\n",
      "[2, 4]\n"
     ]
    }
   ],
   "execution_count": 9
  },
  {
   "metadata": {
    "ExecuteTime": {
     "end_time": "2024-10-28T15:08:07.481019Z",
     "start_time": "2024-10-28T15:08:07.311324Z"
    }
   },
   "cell_type": "code",
   "source": [
    "# 6. Logic Programming\n",
    "from sympy import symbols, Eq, solve\n",
    "\n",
    "# Define the symbols\n",
    "x = symbols('x')\n",
    "\n",
    "# Define the equation\n",
    "equation = Eq(x**2 - 4, 0)\n",
    "\n",
    "# Solve the equation\n",
    "solutions = solve(equation, x)\n",
    "print(solutions)  # Output: [-2, 2]\n"
   ],
   "id": "9fcee4089bb6473b",
   "outputs": [
    {
     "name": "stdout",
     "output_type": "stream",
     "text": [
      "[-2, 2]\n"
     ]
    }
   ],
   "execution_count": 8
  },
  {
   "metadata": {
    "ExecuteTime": {
     "end_time": "2024-10-28T15:15:09.697401Z",
     "start_time": "2024-10-28T15:14:35.528903Z"
    }
   },
   "cell_type": "code",
   "source": [
    "# 7. Event-Driven Programming\n",
    "import tkinter as tk\n",
    "\n",
    "def on_button_click():\n",
    "    print(\"Button clicked!\")\n",
    "\n",
    "# Create a simple GUI application\n",
    "root = tk.Tk()\n",
    "button = tk.Button(root, text=\"Click Me\", command=on_button_click)\n",
    "button.pack()\n",
    "\n",
    "root.mainloop()\n"
   ],
   "id": "24df2c69db6047b2",
   "outputs": [
    {
     "name": "stderr",
     "output_type": "stream",
     "text": [
      "2024-10-28 16:14:43.809 Python[7693:499057] +[IMKClient subclass]: chose IMKClient_Legacy\n",
      "2024-10-28 16:14:43.809 Python[7693:499057] +[IMKInputSession subclass]: chose IMKInputSession_Legacy\n"
     ]
    },
    {
     "name": "stdout",
     "output_type": "stream",
     "text": [
      "Button clicked!\n",
      "Button clicked!\n",
      "Button clicked!\n",
      "Button clicked!\n",
      "Button clicked!\n",
      "Button clicked!\n"
     ]
    }
   ],
   "execution_count": 3
  },
  {
   "metadata": {
    "ExecuteTime": {
     "end_time": "2024-10-28T15:12:58.782047Z",
     "start_time": "2024-10-28T15:12:53.753382Z"
    }
   },
   "cell_type": "code",
   "source": [
    "# 8. Concurrent Programming\n",
    "import threading\n",
    "import time\n",
    "\n",
    "def print_numbers():\n",
    "    for i in range(5):\n",
    "        print(f\"Number: {i}\")\n",
    "        time.sleep(1)\n",
    "\n",
    "def print_letters():\n",
    "    for letter in ['A', 'B', 'C', 'D', 'E']:\n",
    "        print(f\"Letter: {letter}\")\n",
    "        time.sleep(1)\n",
    "\n",
    "# Create threads\n",
    "thread1 = threading.Thread(target=print_numbers)\n",
    "thread2 = threading.Thread(target=print_letters)\n",
    "\n",
    "# Start threads\n",
    "thread1.start()\n",
    "thread2.start()\n",
    "\n",
    "# Wait for threads to finish\n",
    "thread1.join()\n",
    "thread2.join()\n",
    "\n",
    "print(\"Finished concurrent execution\")\n"
   ],
   "id": "809e3943fd7d408f",
   "outputs": [
    {
     "name": "stdout",
     "output_type": "stream",
     "text": [
      "Number: 0\n",
      "Letter: A\n",
      "Number: 1Letter: B\n",
      "\n",
      "Letter: CNumber: 2\n",
      "\n",
      "Number: 3Letter: D\n",
      "\n",
      "Number: 4\n",
      "Letter: E\n",
      "Finished concurrent execution\n"
     ]
    }
   ],
   "execution_count": 2
  }
 ],
 "metadata": {
  "kernelspec": {
   "display_name": "Python 3",
   "language": "python",
   "name": "python3"
  },
  "language_info": {
   "codemirror_mode": {
    "name": "ipython",
    "version": 2
   },
   "file_extension": ".py",
   "mimetype": "text/x-python",
   "name": "python",
   "nbconvert_exporter": "python",
   "pygments_lexer": "ipython2",
   "version": "2.7.6"
  }
 },
 "nbformat": 4,
 "nbformat_minor": 5
}
