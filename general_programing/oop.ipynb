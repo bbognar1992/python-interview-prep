{
 "cells": [
  {
   "metadata": {},
   "cell_type": "markdown",
   "source": "# Object Oriented Programing",
   "id": "72d39437d4c4e376"
  },
  {
   "metadata": {},
   "cell_type": "markdown",
   "source": [
    "## 1. Encapsulation\n",
    "\n",
    "Encapsulation involves bundling the data (attributes) and methods (functions) that operate on the data within a class, and restricting direct access to some of the object's components. Here, we will encapsulate the account details (like the account number and balance) and provide public methods for interacting with the account."
   ],
   "id": "738f6bac1720006b"
  },
  {
   "metadata": {
    "ExecuteTime": {
     "end_time": "2024-10-28T13:37:30.484737Z",
     "start_time": "2024-10-28T13:37:30.480250Z"
    }
   },
   "cell_type": "code",
   "source": [
    "class BankAccount:\n",
    "    \"\"\"Base class for bank account management.\"\"\"\n",
    "\n",
    "    def __init__(self, account_number, balance=0.0):\n",
    "        self.account_number = account_number\n",
    "        self.balance = balance\n",
    "\n",
    "    def deposit(self, amount):\n",
    "        \"\"\"Deposit money into the account.\"\"\"\n",
    "        if amount > 0:\n",
    "            self.balance += amount\n",
    "            print(f\"{amount} deposited. New balance: {self.balance}\")\n",
    "        else:\n",
    "            print(\"Deposit amount must be positive.\")\n",
    "\n",
    "    def withdraw(self, amount):\n",
    "        \"\"\"Withdraw money from the account.\"\"\"\n",
    "        if amount > 0 and amount <= self.balance:\n",
    "            self.balance -= amount\n",
    "            print(f\"{amount} withdrawn. New balance: {self.balance}\")\n",
    "        else:\n",
    "            print(\"Invalid amount or insufficient funds.\")\n",
    "\n",
    "    def get_balance(self):\n",
    "        \"\"\"Get the current balance.\"\"\"\n",
    "        return self.balance"
   ],
   "id": "25619a36047a27f0",
   "outputs": [],
   "execution_count": 6
  },
  {
   "metadata": {},
   "cell_type": "markdown",
   "source": [
    "## 2. Abstraction\n",
    "\n",
    "Abstraction is about providing a simple interface for interacting with the object while hiding the complex internal implementation details. In this example, the methods deposit(), withdraw(), and get_balance() abstract away the details of how the balance is managed."
   ],
   "id": "739f52cab1c0f801"
  },
  {
   "metadata": {},
   "cell_type": "markdown",
   "source": [
    "## 3. Inheritance\n",
    "\n",
    "Inheritance allows a new class to inherit properties and methods from an existing class. In our banking example, we can create specialized account types like SavingsAccount and CheckingAccount that inherit from the BankAccount class."
   ],
   "id": "fbc45812b53b371b"
  },
  {
   "metadata": {},
   "cell_type": "code",
   "outputs": [],
   "execution_count": null,
   "source": [
    "class SavingsAccount(BankAccount):\n",
    "    \"\"\"Savings account that earns interest.\"\"\"\n",
    "\n",
    "    def __init__(self, account_number, balance=0.0, interest_rate=0.02):\n",
    "        super().__init__(account_number, balance)\n",
    "        self.interest_rate = interest_rate\n",
    "\n",
    "    def apply_interest(self):\n",
    "        \"\"\"Apply interest to the balance.\"\"\"\n",
    "        interest = self.balance * self.interest_rate\n",
    "        self.balance += interest\n",
    "        print(f\"Interest applied: {interest}. New balance: {self.balance}\")\n",
    "\n",
    "\n",
    "class CheckingAccount(BankAccount):\n",
    "    \"\"\"Checking account that may have an overdraft limit.\"\"\"\n",
    "\n",
    "    def __init__(self, account_number, balance=0.0, overdraft_limit=0.0):\n",
    "        super().__init__(account_number, balance)\n",
    "        self.overdraft_limit = overdraft_limit\n",
    "\n",
    "    def withdraw(self, amount):\n",
    "        \"\"\"Withdraw money, considering the overdraft limit.\"\"\"\n",
    "        if amount > 0 and amount <= self.balance + self.overdraft_limit:\n",
    "            self.balance -= amount\n",
    "            print(f\"{amount} withdrawn. New balance: {self.balance}\")\n",
    "        else:\n",
    "            print(\"Invalid amount or insufficient funds with overdraft limit.\")\n"
   ],
   "id": "d12e2eed20c85824"
  },
  {
   "metadata": {},
   "cell_type": "markdown",
   "source": [
    "## 4. Polymorphism\n",
    "\n",
    "Polymorphism allows us to use a single interface to represent different underlying forms (data types). In this example, both SavingsAccount and CheckingAccount override the withdraw() method to provide different behaviors, but they can still be used interchangeably when referring to a BankAccount."
   ],
   "id": "82f9b8e6e6cd519a"
  },
  {
   "metadata": {
    "ExecuteTime": {
     "end_time": "2024-10-28T13:38:20.318683Z",
     "start_time": "2024-10-28T13:38:20.316048Z"
    }
   },
   "cell_type": "code",
   "source": [
    "def perform_withdrawal(account, amount):\n",
    "    \"\"\"Perform a withdrawal on any type of account.\"\"\"\n",
    "    account.withdraw(amount)"
   ],
   "id": "670036514c87ca95",
   "outputs": [],
   "execution_count": 7
  },
  {
   "metadata": {
    "ExecuteTime": {
     "end_time": "2024-10-28T13:38:35.944412Z",
     "start_time": "2024-10-28T13:38:35.938168Z"
    }
   },
   "cell_type": "code",
   "source": [
    "class Customer:\n",
    "    \"\"\"Customer who can own multiple accounts.\"\"\"\n",
    "\n",
    "    def __init__(self, name):\n",
    "        self.name = name\n",
    "        self.accounts = []\n",
    "\n",
    "    def add_account(self, account):\n",
    "        \"\"\"Add an account to the customer.\"\"\"\n",
    "        self.accounts.append(account)\n",
    "        print(f\"Account {account.account_number} added to {self.name}.\")\n",
    "\n",
    "    def get_total_balance(self):\n",
    "        \"\"\"Get the total balance across all accounts.\"\"\"\n",
    "        total_balance = sum(account.get_balance() for account in self.accounts)\n",
    "        print(f\"Total balance for {self.name}: {total_balance}\")\n",
    "        return total_balance\n",
    "\n",
    "# Demonstrating the benefits of OOP\n",
    "\n",
    "# Create a customer\n",
    "john = Customer(\"John Doe\")\n",
    "\n",
    "# Create different types of accounts\n",
    "savings = SavingsAccount(\"12345\", balance=1000, interest_rate=0.05)\n",
    "checking = CheckingAccount(\"67890\", balance=500, overdraft_limit=200)\n",
    "\n",
    "# Add accounts to the customer\n",
    "john.add_account(savings)\n",
    "john.add_account(checking)\n",
    "\n",
    "# Perform operations on the accounts\n",
    "savings.deposit(200)\n",
    "savings.apply_interest()  # Apply interest to the savings account\n",
    "\n",
    "checking.withdraw(100)\n",
    "checking.withdraw(700)  # Test overdraft functionality\n",
    "\n",
    "# Get the total balance across all accounts\n",
    "john.get_total_balance()"
   ],
   "id": "9d1e1ab6f9509d06",
   "outputs": [
    {
     "name": "stdout",
     "output_type": "stream",
     "text": [
      "Account 12345 added to John Doe.\n",
      "Account 67890 added to John Doe.\n",
      "200 deposited. New balance: 1200\n",
      "Interest applied: 60.0. New balance: 1260.0\n",
      "100 withdrawn. New balance: 400\n",
      "Invalid amount or insufficient funds with overdraft limit.\n",
      "Total balance for John Doe: 1660.0\n"
     ]
    },
    {
     "data": {
      "text/plain": [
       "1660.0"
      ]
     },
     "execution_count": 8,
     "metadata": {},
     "output_type": "execute_result"
    }
   ],
   "execution_count": 8
  },
  {
   "metadata": {},
   "cell_type": "code",
   "outputs": [],
   "execution_count": null,
   "source": "",
   "id": "304fc97ef49f4401"
  }
 ],
 "metadata": {
  "kernelspec": {
   "display_name": "Python 3",
   "language": "python",
   "name": "python3"
  },
  "language_info": {
   "codemirror_mode": {
    "name": "ipython",
    "version": 2
   },
   "file_extension": ".py",
   "mimetype": "text/x-python",
   "name": "python",
   "nbconvert_exporter": "python",
   "pygments_lexer": "ipython2",
   "version": "2.7.6"
  }
 },
 "nbformat": 4,
 "nbformat_minor": 5
}
